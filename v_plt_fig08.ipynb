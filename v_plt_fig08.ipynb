{
 "cells": [
  {
   "cell_type": "code",
   "execution_count": 2,
   "metadata": {},
   "outputs": [
    {
     "name": "stderr",
     "output_type": "stream",
     "text": [
      "pixdim[1,2,3] should be non-zero; setting 0 dims to 1\n"
     ]
    }
   ],
   "source": [
    "import os \n",
    "import numpy as np \n",
    "import scipy.stats as ss\n",
    "import nibabel as nib \n",
    "import hcp_utils as hcp \n",
    "import pandas as pd\n",
    "import matplotlib as mpl\n",
    "import matplotlib.pyplot as plt \n",
    "import nilearn.plotting as nplt\n",
    "import seaborn as sns \n",
    "import seaborn.objects as so "
   ]
  },
  {
   "cell_type": "code",
   "execution_count": 3,
   "metadata": {},
   "outputs": [],
   "source": [
    "dir_path = r'/Users/weiwei/BaiduCloud/Work/Paris/HSV/Revised/data'\n",
    "rgba_mv = np.load(os.path.join(dir_path, 'rgba_mv_rmRS_167.npy'))\n",
    "import v_model_hsv as vmod \n",
    "th_ind_mv, rd_ind_mv, th_grp_mv, rd_grp_mv, color_mv = vmod.v_hsv_model_rgba_indiv(rgba_mv)"
   ]
  },
  {
   "cell_type": "code",
   "execution_count": 4,
   "metadata": {},
   "outputs": [],
   "source": [
    "dir_cloud = '/Users/weiwei/BaiduCloud'\n",
    "dir_surf = dir_cloud + '/Work/Paris/HSV/Surfs'\n",
    "slh = dir_surf + '/S1200.L.inflated_MSMAll.32k_fs_LR.surf.gii'\n",
    "srh = dir_surf + '/S1200.R.inflated_MSMAll.32k_fs_LR.surf.gii'\n",
    "lab_l = nib.load(dir_surf + '/fsLR.32k.L.label.gii').agg_data()\n",
    "lab_r = nib.load(dir_surf + '/fsLR.32k.R.label.gii').agg_data()\n",
    "labs  = np.concatenate((lab_l, lab_r))\n",
    "parc   = hcp.mmp.map_all[hcp.struct.cortex]\n",
    "yeo7   = hcp.yeo7.map_all[hcp.struct.cortex]\n",
    "from nilearn import surface\n",
    "slh_inf = surface.load_surf_mesh(slh)\n",
    "srh_inf = surface.load_surf_mesh(srh)"
   ]
  },
  {
   "cell_type": "code",
   "execution_count": 5,
   "metadata": {},
   "outputs": [
    {
     "data": {
      "text/plain": [
       "(32492,)"
      ]
     },
     "execution_count": 5,
     "metadata": {},
     "output_type": "execute_result"
    }
   ],
   "source": [
    "cls = nib.load('/Users/weiwei/BaiduCloud/Work/Paris/HSV/Revised/data/lh.cls_th_mv_rmRS_LvsR.label.gii').agg_data()\n",
    "cls.shape"
   ]
  },
  {
   "cell_type": "code",
   "execution_count": 6,
   "metadata": {},
   "outputs": [
    {
     "data": {
      "text/html": [
       "<div>\n",
       "<style scoped>\n",
       "    .dataframe tbody tr th:only-of-type {\n",
       "        vertical-align: middle;\n",
       "    }\n",
       "\n",
       "    .dataframe tbody tr th {\n",
       "        vertical-align: top;\n",
       "    }\n",
       "\n",
       "    .dataframe thead th {\n",
       "        text-align: right;\n",
       "    }\n",
       "</style>\n",
       "<table border=\"1\" class=\"dataframe\">\n",
       "  <thead>\n",
       "    <tr style=\"text-align: right;\">\n",
       "      <th></th>\n",
       "      <th>beta_c1</th>\n",
       "      <th>beta_c2</th>\n",
       "      <th>beta_c3</th>\n",
       "      <th>beta_c4</th>\n",
       "      <th>beta_c5</th>\n",
       "      <th>group</th>\n",
       "      <th>type</th>\n",
       "    </tr>\n",
       "  </thead>\n",
       "  <tbody>\n",
       "    <tr>\n",
       "      <th>0</th>\n",
       "      <td>0.050830</td>\n",
       "      <td>0.123622</td>\n",
       "      <td>0.176871</td>\n",
       "      <td>0.119518</td>\n",
       "      <td>0.449962</td>\n",
       "      <td>LH</td>\n",
       "      <td>V</td>\n",
       "    </tr>\n",
       "    <tr>\n",
       "      <th>1</th>\n",
       "      <td>0.080068</td>\n",
       "      <td>0.055574</td>\n",
       "      <td>0.408689</td>\n",
       "      <td>0.127505</td>\n",
       "      <td>0.353324</td>\n",
       "      <td>LH</td>\n",
       "      <td>V</td>\n",
       "    </tr>\n",
       "    <tr>\n",
       "      <th>2</th>\n",
       "      <td>0.090951</td>\n",
       "      <td>0.036208</td>\n",
       "      <td>0.361405</td>\n",
       "      <td>0.190984</td>\n",
       "      <td>0.280776</td>\n",
       "      <td>LH</td>\n",
       "      <td>V</td>\n",
       "    </tr>\n",
       "    <tr>\n",
       "      <th>3</th>\n",
       "      <td>0.320445</td>\n",
       "      <td>0.088229</td>\n",
       "      <td>0.302475</td>\n",
       "      <td>0.138748</td>\n",
       "      <td>0.160582</td>\n",
       "      <td>LH</td>\n",
       "      <td>V</td>\n",
       "    </tr>\n",
       "    <tr>\n",
       "      <th>4</th>\n",
       "      <td>0.303640</td>\n",
       "      <td>0.013089</td>\n",
       "      <td>0.560668</td>\n",
       "      <td>0.214820</td>\n",
       "      <td>0.412724</td>\n",
       "      <td>LH</td>\n",
       "      <td>V</td>\n",
       "    </tr>\n",
       "    <tr>\n",
       "      <th>...</th>\n",
       "      <td>...</td>\n",
       "      <td>...</td>\n",
       "      <td>...</td>\n",
       "      <td>...</td>\n",
       "      <td>...</td>\n",
       "      <td>...</td>\n",
       "      <td>...</td>\n",
       "    </tr>\n",
       "    <tr>\n",
       "      <th>997</th>\n",
       "      <td>0.176848</td>\n",
       "      <td>0.333606</td>\n",
       "      <td>0.234198</td>\n",
       "      <td>0.299260</td>\n",
       "      <td>0.089184</td>\n",
       "      <td>RH</td>\n",
       "      <td>A</td>\n",
       "    </tr>\n",
       "    <tr>\n",
       "      <th>998</th>\n",
       "      <td>0.004569</td>\n",
       "      <td>0.197788</td>\n",
       "      <td>0.101381</td>\n",
       "      <td>0.007756</td>\n",
       "      <td>0.016809</td>\n",
       "      <td>RH</td>\n",
       "      <td>A</td>\n",
       "    </tr>\n",
       "    <tr>\n",
       "      <th>999</th>\n",
       "      <td>0.090100</td>\n",
       "      <td>0.285313</td>\n",
       "      <td>0.132659</td>\n",
       "      <td>0.340031</td>\n",
       "      <td>0.048735</td>\n",
       "      <td>RH</td>\n",
       "      <td>A</td>\n",
       "    </tr>\n",
       "    <tr>\n",
       "      <th>1000</th>\n",
       "      <td>0.096512</td>\n",
       "      <td>0.198294</td>\n",
       "      <td>0.216322</td>\n",
       "      <td>0.241833</td>\n",
       "      <td>0.087828</td>\n",
       "      <td>RH</td>\n",
       "      <td>A</td>\n",
       "    </tr>\n",
       "    <tr>\n",
       "      <th>1001</th>\n",
       "      <td>0.007575</td>\n",
       "      <td>0.121638</td>\n",
       "      <td>0.022368</td>\n",
       "      <td>0.173800</td>\n",
       "      <td>0.000247</td>\n",
       "      <td>RH</td>\n",
       "      <td>A</td>\n",
       "    </tr>\n",
       "  </tbody>\n",
       "</table>\n",
       "<p>1002 rows × 7 columns</p>\n",
       "</div>"
      ],
      "text/plain": [
       "       beta_c1   beta_c2   beta_c3   beta_c4   beta_c5 group type\n",
       "0     0.050830  0.123622  0.176871  0.119518  0.449962    LH    V\n",
       "1     0.080068  0.055574  0.408689  0.127505  0.353324    LH    V\n",
       "2     0.090951  0.036208  0.361405  0.190984  0.280776    LH    V\n",
       "3     0.320445  0.088229  0.302475  0.138748  0.160582    LH    V\n",
       "4     0.303640  0.013089  0.560668  0.214820  0.412724    LH    V\n",
       "...        ...       ...       ...       ...       ...   ...  ...\n",
       "997   0.176848  0.333606  0.234198  0.299260  0.089184    RH    A\n",
       "998   0.004569  0.197788  0.101381  0.007756  0.016809    RH    A\n",
       "999   0.090100  0.285313  0.132659  0.340031  0.048735    RH    A\n",
       "1000  0.096512  0.198294  0.216322  0.241833  0.087828    RH    A\n",
       "1001  0.007575  0.121638  0.022368  0.173800  0.000247    RH    A\n",
       "\n",
       "[1002 rows x 7 columns]"
      ]
     },
     "execution_count": 6,
     "metadata": {},
     "output_type": "execute_result"
    }
   ],
   "source": [
    "rgba_LR_mv = np.zeros((167,3,32492*2))\n",
    "rgba_LR_mv[:,:,labs!=0] = rgba_mv[:,:3,:]\n",
    "rgba_LH = rgba_LR_mv[:,:,:32492]\n",
    "rgba_RH = rgba_LR_mv[:,:,32492:]\n",
    "\n",
    "rgba_LH_c1 = rgba_LH[:,:3,cls==1].mean(axis=2)\n",
    "rgba_LH_c2 = rgba_LH[:,:3,cls==2].mean(axis=2)\n",
    "rgba_LH_c3 = rgba_LH[:,:3,cls==3].mean(axis=2)\n",
    "rgba_LH_c4 = rgba_LH[:,:3,cls==4].mean(axis=2)\n",
    "rgba_LH_c5 = rgba_LH[:,:3,cls==5].mean(axis=2)\n",
    "\n",
    "rgba_RH_c1 = rgba_RH[:,:3,cls==1].mean(axis=2)\n",
    "rgba_RH_c2 = rgba_RH[:,:3,cls==2].mean(axis=2)\n",
    "rgba_RH_c3 = rgba_RH[:,:3,cls==3].mean(axis=2)\n",
    "rgba_RH_c4 = rgba_RH[:,:3,cls==4].mean(axis=2)\n",
    "rgba_RH_c5 = rgba_RH[:,:3,cls==5].mean(axis=2)\n",
    "\n",
    "df = pd.DataFrame({'beta_c1': np.concatenate((rgba_LH_c1[:,0], rgba_LH_c1[:,1], rgba_LH_c1[:,2], rgba_RH_c1[:,0], rgba_RH_c1[:,1], rgba_RH_c1[:,2])),\n",
    "                   'beta_c2': np.concatenate((rgba_LH_c2[:,0], rgba_LH_c2[:,1], rgba_LH_c2[:,2], rgba_RH_c2[:,0], rgba_RH_c2[:,1], rgba_RH_c2[:,2])),\n",
    "                   'beta_c3': np.concatenate((rgba_LH_c3[:,0], rgba_LH_c3[:,1], rgba_LH_c3[:,2], rgba_RH_c3[:,0], rgba_RH_c3[:,1], rgba_RH_c3[:,2])),\n",
    "                   'beta_c4': np.concatenate((rgba_LH_c4[:,0], rgba_LH_c4[:,1], rgba_LH_c4[:,2], rgba_RH_c4[:,0], rgba_RH_c4[:,1], rgba_RH_c4[:,2])),\n",
    "                   'beta_c5': np.concatenate((rgba_LH_c5[:,0], rgba_LH_c5[:,1], rgba_LH_c5[:,2], rgba_RH_c5[:,0], rgba_RH_c5[:,1], rgba_RH_c5[:,2])),\n",
    "                    'group':['LH']*167*3 + ['RH']*167*3, 'type':(['V']*167+['S']*167+['A']*167) * 2})\n",
    "\n",
    "df"
   ]
  },
  {
   "cell_type": "code",
   "execution_count": 7,
   "metadata": {},
   "outputs": [],
   "source": [
    "th_grp_LR = np.zeros(32492*2)\n",
    "th_grp_LR[labs!=0] = th_grp_mv\n",
    "rd_grp_LR = np.zeros(32492*2)\n",
    "rd_grp_LR[labs!=0] = rd_grp_mv"
   ]
  },
  {
   "cell_type": "code",
   "execution_count": 13,
   "metadata": {},
   "outputs": [
    {
     "name": "stderr",
     "output_type": "stream",
     "text": [
      "/var/folders/_x/zn4_b1h54dn55qg4m99bn_y40000gn/T/ipykernel_15811/1918392700.py:47: UserWarning: FixedFormatter should only be used together with FixedLocator\n",
      "  axs[j].set_xticklabels(labels=['V','S','A'], fontdict={'fontsize':6})\n"
     ]
    },
    {
     "data": {
      "image/png": "[encoded data removed]",
      "text/plain": [
       "<Figure size 767.717x295.276 with 10 Axes>"
      ]
     },
     "metadata": {},
     "output_type": "display_data"
    }
   ],
   "source": [
    "from matplotlib.gridspec import GridSpec\n",
    "plt.rcParams[\"font.family\"] = \"Helvetica\"\n",
    "\n",
    "cm = 1/2.54\n",
    "fig=plt.figure(figsize=(13*cm, 5*cm), dpi=150, facecolor='white')\n",
    "gs = GridSpec(2, 5, figure=fig)\n",
    "axs= [None]*10\n",
    "\n",
    "axs[0] = fig.add_subplot(gs[0,0], projection='polar')\n",
    "axs[1] = fig.add_subplot(gs[0,1], projection='polar')\n",
    "axs[2] = fig.add_subplot(gs[0,2], projection='polar')\n",
    "axs[3] = fig.add_subplot(gs[0,3], projection='polar')\n",
    "axs[4] = fig.add_subplot(gs[0,4], projection='polar')\n",
    "\n",
    "axs[5] = fig.add_subplot(gs[1,0])\n",
    "axs[6] = fig.add_subplot(gs[1,1])\n",
    "axs[7] = fig.add_subplot(gs[1,2])\n",
    "axs[8] = fig.add_subplot(gs[1,3])\n",
    "axs[9] = fig.add_subplot(gs[1,4])\n",
    "\n",
    "for i in range(5):\n",
    "    axs[i].scatter(th_grp_LR[:32492][cls==i+1], rd_grp_LR[:32492][cls==i+1], c='#38858A', alpha=.1, s=10)\n",
    "    axs[i].scatter(th_grp_LR[32492:][cls==i+1], rd_grp_LR[32492:][cls==i+1], c='#DE7769', alpha=.1, s=10)\n",
    "    axs[i].set_ylim([0,1])\n",
    "    axs[i].set_yticks([0.5, 1])\n",
    "    axs[i].set_xticks([0/360*2*np.pi,120/360*2*np.pi,240/360*2*np.pi])\n",
    "    if i == 0:\n",
    "        axs[i].set_xticklabels(labels=['','',''], fontdict={'fontsize':6, \"color\":'dimgrey'})\n",
    "        axs[i].set_yticklabels(labels=['0.5', '1.0'], fontdict={'fontsize':6, \"color\":'dimgrey'})\n",
    "    else:\n",
    "        axs[i].set_xticklabels(labels=['','',''])\n",
    "        axs[i].set_yticklabels(labels=['',''])\n",
    "    axs[i].set_rlabel_position(190)\n",
    "    axs[i].tick_params(axis='x', which='major', pad=-4.5)\n",
    "    axs[i].grid(linewidth=.3, color='dimgrey', alpha=.8)\n",
    "    axs[i].spines['polar'].set_visible(False)\n",
    "\n",
    "sns.boxplot(df, x='type', y='beta_c1', hue='group', palette={'LH':'#38858A','RH':'#DE7769'}, showcaps=False, showfliers=True, ax=axs[5], fill=False, legend=False, fliersize=.4, linewidth=.6)\n",
    "sns.boxplot(df, x='type', y='beta_c2', hue='group', palette={'LH':'#38858A','RH':'#DE7769'}, showcaps=False, showfliers=True, ax=axs[6], fill=False, legend=False, fliersize=.4, linewidth=.6)\n",
    "sns.boxplot(df, x='type', y='beta_c3', hue='group', palette={'LH':'#38858A','RH':'#DE7769'}, showcaps=False, showfliers=True, ax=axs[7], fill=False, legend=False, fliersize=.4, linewidth=.6)\n",
    "sns.boxplot(df, x='type', y='beta_c4', hue='group', palette={'LH':'#38858A','RH':'#DE7769'}, showcaps=False, showfliers=True, ax=axs[8], fill=False, legend=False, fliersize=.4, linewidth=.6)\n",
    "sns.boxplot(df, x='type', y='beta_c5', hue='group', palette={'LH':'#38858A','RH':'#DE7769'}, showcaps=False, showfliers=True, ax=axs[9], fill=False, legend=False, fliersize=.4, linewidth=.6)\n",
    "\n",
    "for j in range(5,10):\n",
    "    axs[j].set_xlabel('')\n",
    "    axs[j].set_ylabel('')\n",
    "    axs[j].set_xticklabels(labels=['V','S','A'], fontdict={'fontsize':6})\n",
    "    axs[j].set_ylim([-.2,1])\n",
    "    axs[j].set_yticks([0,.8])\n",
    "    if j==5:\n",
    "        axs[j].set_yticklabels(labels=['0','0.8'], fontdict={'fontsize':6})\n",
    "    else:\n",
    "        axs[j].set_yticklabels(labels=['','']) \n",
    "    axs[j].tick_params(axis='x', which='major', pad=1, color='grey', width=.3)\n",
    "    axs[j].tick_params(axis='y', which='major', pad=1, color='grey', width=.3)\n",
    "    for pos in ['top', 'bottom', 'left', 'right']:\n",
    "        axs[j].spines[pos].set_linewidth(.3)\n",
    "        axs[j].spines[pos].set_edgecolor('dimgrey')\n",
    "\n",
    "\n",
    "plt.tight_layout(w_pad=.5, h_pad=0.2)"
   ]
  },
  {
   "cell_type": "code",
   "execution_count": 14,
   "metadata": {},
   "outputs": [],
   "source": [
    "fig.savefig('/Users/weiwei/BaiduCloud/Work/Paris/HSV/Revised/figures/plot/f08/betas_final.pdf', transparent=True)"
   ]
  },
  {
   "cell_type": "code",
   "execution_count": 8,
   "metadata": {},
   "outputs": [],
   "source": [
    "th_lh_c1 = th_grp_LR[:32492][cls==1]\n",
    "th_lh_c2 = th_grp_LR[:32492][cls==2]\n",
    "th_lh_c3 = th_grp_LR[:32492][cls==3]\n",
    "th_lh_c4 = th_grp_LR[:32492][cls==4]\n",
    "th_lh_c5 = th_grp_LR[:32492][cls==5]\n",
    "th_rh_c1 = th_grp_LR[32492:][cls==1]\n",
    "th_rh_c2 = th_grp_LR[32492:][cls==2]\n",
    "th_rh_c3 = th_grp_LR[32492:][cls==3]\n",
    "th_rh_c4 = th_grp_LR[32492:][cls==4]\n",
    "th_rh_c5 = th_grp_LR[32492:][cls==5]\n",
    "\n",
    "# rd_lh_c1 = rd_grp_LR[:32492][cls==1]\n",
    "# rd_lh_c2 = rd_grp_LR[:32492][cls==2]\n",
    "# rd_lh_c3 = rd_grp_LR[:32492][cls==3]\n",
    "# rd_lh_c4 = rd_grp_LR[:32492][cls==4]\n",
    "# rd_lh_c5 = rd_grp_LR[:32492][cls==5]\n",
    "# rd_rh_c1 = rd_grp_LR[32492:][cls==1]\n",
    "# rd_rh_c2 = rd_grp_LR[32492:][cls==2]\n",
    "# rd_rh_c3 = rd_grp_LR[32492:][cls==3]\n",
    "# rd_rh_c4 = rd_grp_LR[32492:][cls==4]\n",
    "# rd_rh_c5 = rd_grp_LR[32492:][cls==5]"
   ]
  },
  {
   "cell_type": "code",
   "execution_count": 10,
   "metadata": {},
   "outputs": [
    {
     "name": "stdout",
     "output_type": "stream",
     "text": [
      "293.94611928888713 4.5538749496298685\n",
      "210.46481643576672 140.4701188525226\n",
      "332.17507390316484 2.8849137140836363\n",
      "264.9744296130672 336.8480878286461\n",
      "53.56301246959906 82.61539923209463\n"
     ]
    }
   ],
   "source": [
    "import pycircstat as circ\n",
    "print(circ.descriptive.mean(th_lh_c1)*360/(2*np.pi), circ.descriptive.mean(th_rh_c1)*360/(2*np.pi))\n",
    "print(circ.descriptive.mean(th_lh_c2)*360/(2*np.pi), circ.descriptive.mean(th_rh_c2)*360/(2*np.pi))\n",
    "print(circ.descriptive.mean(th_lh_c3)*360/(2*np.pi), circ.descriptive.mean(th_rh_c3)*360/(2*np.pi))\n",
    "print(circ.descriptive.mean(th_lh_c4)*360/(2*np.pi), circ.descriptive.mean(th_rh_c4)*360/(2*np.pi))\n",
    "print(circ.descriptive.mean(th_lh_c5)*360/(2*np.pi), circ.descriptive.mean(th_rh_c5)*360/(2*np.pi))"
   ]
  },
  {
   "cell_type": "code",
   "execution_count": 14,
   "metadata": {},
   "outputs": [
    {
     "data": {
      "text/plain": [
       "TtestResult(statistic=array([-15.92391901,  -1.69261554,  19.14502636]), pvalue=array([2.98544763e-35, 9.24046628e-02, 7.13609887e-44]), df=array([166, 166, 166]))"
      ]
     },
     "metadata": {},
     "output_type": "display_data"
    },
    {
     "data": {
      "text/plain": [
       "TtestResult(statistic=array([ -4.49018486, -24.34751981,  29.21733475]), pvalue=array([1.32678763e-05, 1.15462846e-56, 2.49316264e-67]), df=array([166, 166, 166]))"
      ]
     },
     "metadata": {},
     "output_type": "display_data"
    },
    {
     "data": {
      "text/plain": [
       "TtestResult(statistic=array([-8.65168075, -4.27622719, 11.6438836 ]), pvalue=array([4.19963696e-15, 3.19931088e-05, 2.75602386e-23]), df=array([166, 166, 166]))"
      ]
     },
     "metadata": {},
     "output_type": "display_data"
    },
    {
     "data": {
      "text/plain": [
       "TtestResult(statistic=array([-16.26237405,  -0.4504089 ,  13.8750692 ]), pvalue=array([3.52821416e-36, 6.53003330e-01, 1.47454303e-29]), df=array([166, 166, 166]))"
      ]
     },
     "metadata": {},
     "output_type": "display_data"
    },
    {
     "data": {
      "text/plain": [
       "TtestResult(statistic=array([ 10.3801358 , -12.90038729,   2.48780837]), pvalue=array([9.09394343e-20, 8.08853762e-27, 1.38404496e-02]), df=array([166, 166, 166]))"
      ]
     },
     "metadata": {},
     "output_type": "display_data"
    }
   ],
   "source": [
    "display(ss.ttest_rel(rgba_LH_c1, rgba_RH_c1))\n",
    "display(ss.ttest_rel(rgba_LH_c2, rgba_RH_c2))\n",
    "display(ss.ttest_rel(rgba_LH_c3, rgba_RH_c3))\n",
    "display(ss.ttest_rel(rgba_LH_c4, rgba_RH_c4))\n",
    "display(ss.ttest_rel(rgba_LH_c5, rgba_RH_c5))"
   ]
  },
  {
   "cell_type": "code",
   "execution_count": null,
   "metadata": {},
   "outputs": [],
   "source": []
  }
 ],
 "metadata": {
  "kernelspec": {
   "display_name": "neurolab",
   "language": "python",
   "name": "python3"
  },
  "language_info": {
   "codemirror_mode": {
    "name": "ipython",
    "version": 3
   },
   "file_extension": ".py",
   "mimetype": "text/x-python",
   "name": "python",
   "nbconvert_exporter": "python",
   "pygments_lexer": "ipython3",
   "version": "3.8.12"
  }
 },
 "nbformat": 4,
 "nbformat_minor": 2
}
